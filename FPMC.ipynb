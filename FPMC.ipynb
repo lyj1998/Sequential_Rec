{
 "cells": [
  {
   "cell_type": "code",
   "execution_count": 21,
   "metadata": {},
   "outputs": [],
   "source": [
    "import torch\n",
    "from torch import nn,optim\n",
    "from torch.nn import functional as F\n",
    "import pandas as pd\n",
    "import numpy as np\n",
    "import random\n",
    "import pickle\n",
    "import logging\n",
    "from tqdm import tqdm\n",
    "from torch.autograd import Variable\n",
    "from torch.nn.utils.rnn import pack_padded_sequence,pad_packed_sequence\n",
    "USE_CUDA = torch.cuda.is_available()\n",
    "\n",
    "random.seed(2020)\n",
    "np.random.seed(2020)\n",
    "torch.manual_seed(2020)\n",
    "if USE_CUDA:\n",
    "    torch.cuda.manual_seed(2020)\n",
    "# set cuda\n",
    "gpu = 0\n",
    "use_cuda = gpu >= 0 and torch.cuda.is_available()\n",
    "if use_cuda:\n",
    "    torch.cuda.set_device(gpu)\n",
    "    device = torch.device(\"cuda\", gpu)\n",
    "else:\n",
    "    device = torch.device(\"cpu\")\n",
    "logging.info(\"Use cuda: %s, gpu id: %d.\", use_cuda, gpu)"
   ]
  },
  {
   "cell_type": "code",
   "execution_count": 22,
   "metadata": {},
   "outputs": [],
   "source": [
    "# 将train_data和test_data读取存入list中\n",
    "def ReadTxtName(rootdir):\n",
    "    lines = []\n",
    "    with open(rootdir, 'r') as file_to_read:\n",
    "        while True:\n",
    "            line = file_to_read.readline()\n",
    "            if not line:\n",
    "                break\n",
    "            line = line.strip('\\n')\n",
    "            line = list(eval(line))\n",
    "            lines.append(line)\n",
    "    return lines"
   ]
  },
  {
   "cell_type": "code",
   "execution_count": 23,
   "metadata": {},
   "outputs": [],
   "source": [
    "train_data_path = 'data_example/train_data.txt'\n",
    "test_data_path = 'data_example/test_data.txt'"
   ]
  },
  {
   "cell_type": "code",
   "execution_count": 24,
   "metadata": {},
   "outputs": [],
   "source": [
    "train_set = ReadTxtName(train_data_path)\n",
    "test_set = ReadTxtName(test_data_path)"
   ]
  },
  {
   "cell_type": "code",
   "execution_count": 25,
   "metadata": {},
   "outputs": [],
   "source": [
    "train_data = pd.DataFrame(columns=['user_id', 'item_seq_temp','cat_list','time_list','time_last_list','time_now_list','position_list','target','item_seq_len'],data = train_set)\n",
    "test_data = pd.DataFrame(columns=['user_id', 'item_seq_temp','cat_list','time_list','time_last_list','time_now_list','position_list','target','item_seq_len'],data = test_set)"
   ]
  },
  {
   "cell_type": "code",
   "execution_count": 26,
   "metadata": {},
   "outputs": [
    {
     "data": {
      "text/html": [
       "<div>\n",
       "<style scoped>\n",
       "    .dataframe tbody tr th:only-of-type {\n",
       "        vertical-align: middle;\n",
       "    }\n",
       "\n",
       "    .dataframe tbody tr th {\n",
       "        vertical-align: top;\n",
       "    }\n",
       "\n",
       "    .dataframe thead th {\n",
       "        text-align: right;\n",
       "    }\n",
       "</style>\n",
       "<table border=\"1\" class=\"dataframe\">\n",
       "  <thead>\n",
       "    <tr style=\"text-align: right;\">\n",
       "      <th></th>\n",
       "      <th>user_id</th>\n",
       "      <th>item_seq_temp</th>\n",
       "      <th>cat_list</th>\n",
       "      <th>time_list</th>\n",
       "      <th>time_last_list</th>\n",
       "      <th>time_now_list</th>\n",
       "      <th>position_list</th>\n",
       "      <th>target</th>\n",
       "      <th>item_seq_len</th>\n",
       "    </tr>\n",
       "  </thead>\n",
       "  <tbody>\n",
       "    <tr>\n",
       "      <th>0</th>\n",
       "      <td>3522</td>\n",
       "      <td>[118873, 190989, 73693, 354311, 73693, 354311,...</td>\n",
       "      <td>[571, 894, 482, 482, 482, 482, 482, 202, 330, ...</td>\n",
       "      <td>[398008, 398008, 398104, 398104, 398104, 39810...</td>\n",
       "      <td>[0, 0, 96, 0, 0, 0, 0, 864, 48, 0, 0, 0, 0, 0,...</td>\n",
       "      <td>[1032, 1032, 936, 936, 936, 936, 936, 72, 24, ...</td>\n",
       "      <td>[0, 1, 2, 3, 4, 5, 6, 7, 8, 9, 10, 11, 12, 13,...</td>\n",
       "      <td>[125165, 482, 399040]</td>\n",
       "      <td>26</td>\n",
       "    </tr>\n",
       "    <tr>\n",
       "      <th>1</th>\n",
       "      <td>3839</td>\n",
       "      <td>[298668, 297576, 305398, 107015, 32892, 76809,...</td>\n",
       "      <td>[636, 506, 339, 339, 636, 25, 339, 339, 25, 94...</td>\n",
       "      <td>[401704, 401704, 401704, 401704, 401704, 40170...</td>\n",
       "      <td>[0, 0, 0, 0, 0, 0, 0, 0, 0, 0, 0, 0, 0, 0, 0, ...</td>\n",
       "      <td>[48, 48, 48, 48, 48, 48, 48, 48, 48, 48, 48, 4...</td>\n",
       "      <td>[0, 1, 2, 3, 4, 5, 6, 7, 8, 9, 10, 11, 12, 13,...</td>\n",
       "      <td>[168523, 943, 401752]</td>\n",
       "      <td>23</td>\n",
       "    </tr>\n",
       "    <tr>\n",
       "      <th>2</th>\n",
       "      <td>3719</td>\n",
       "      <td>[211347, 153658, 7223, 81509, 19699, 81509, 10...</td>\n",
       "      <td>[719, 719, 613, 352, 1333, 352, 352, 1333, 120...</td>\n",
       "      <td>[400216, 400216, 400480, 400552, 400552, 40057...</td>\n",
       "      <td>[0, 0, 264, 72, 0, 24, 0, 0, 0, 24, 24, 288, 0...</td>\n",
       "      <td>[1008, 1008, 744, 672, 672, 648, 648, 648, 648...</td>\n",
       "      <td>[0, 1, 2, 3, 4, 5, 6, 7, 8, 9, 10, 11, 12, 13,...</td>\n",
       "      <td>[329307, 344, 401224]</td>\n",
       "      <td>17</td>\n",
       "    </tr>\n",
       "    <tr>\n",
       "      <th>3</th>\n",
       "      <td>4362</td>\n",
       "      <td>[95057, 68099, 161481, 366635, 150257, 303230,...</td>\n",
       "      <td>[1203, 704, 704, 704, 704, 704, 704, 704, 704,...</td>\n",
       "      <td>[399184, 400192, 400192, 400240, 400240, 40024...</td>\n",
       "      <td>[0, 1008, 0, 48, 0, 0, 0, 0, 0, 384, 0, 0, 72,...</td>\n",
       "      <td>[2520, 1512, 1512, 1464, 1464, 1464, 1464, 146...</td>\n",
       "      <td>[0, 1, 2, 3, 4, 5, 6, 7, 8, 9, 10, 11, 12, 13,...</td>\n",
       "      <td>[146956, 232, 401704]</td>\n",
       "      <td>19</td>\n",
       "    </tr>\n",
       "    <tr>\n",
       "      <th>4</th>\n",
       "      <td>1104</td>\n",
       "      <td>[228127, 202790, 37771, 210693, 316530, 186423...</td>\n",
       "      <td>[537, 381, 194, 962, 194, 301, 194, 194, 1098,...</td>\n",
       "      <td>[397672, 397984, 398008, 398536, 398656, 39865...</td>\n",
       "      <td>[0, 312, 24, 528, 120, 0, 0, 0, 24, 312, 0, 0,...</td>\n",
       "      <td>[3864, 3552, 3528, 3000, 2880, 2880, 2880, 288...</td>\n",
       "      <td>[0, 1, 2, 3, 4, 5, 6, 7, 8, 9, 10, 11, 12, 13,...</td>\n",
       "      <td>[111155, 67, 401536]</td>\n",
       "      <td>18</td>\n",
       "    </tr>\n",
       "  </tbody>\n",
       "</table>\n",
       "</div>"
      ],
      "text/plain": [
       "   user_id                                      item_seq_temp  \\\n",
       "0     3522  [118873, 190989, 73693, 354311, 73693, 354311,...   \n",
       "1     3839  [298668, 297576, 305398, 107015, 32892, 76809,...   \n",
       "2     3719  [211347, 153658, 7223, 81509, 19699, 81509, 10...   \n",
       "3     4362  [95057, 68099, 161481, 366635, 150257, 303230,...   \n",
       "4     1104  [228127, 202790, 37771, 210693, 316530, 186423...   \n",
       "\n",
       "                                            cat_list  \\\n",
       "0  [571, 894, 482, 482, 482, 482, 482, 202, 330, ...   \n",
       "1  [636, 506, 339, 339, 636, 25, 339, 339, 25, 94...   \n",
       "2  [719, 719, 613, 352, 1333, 352, 352, 1333, 120...   \n",
       "3  [1203, 704, 704, 704, 704, 704, 704, 704, 704,...   \n",
       "4  [537, 381, 194, 962, 194, 301, 194, 194, 1098,...   \n",
       "\n",
       "                                           time_list  \\\n",
       "0  [398008, 398008, 398104, 398104, 398104, 39810...   \n",
       "1  [401704, 401704, 401704, 401704, 401704, 40170...   \n",
       "2  [400216, 400216, 400480, 400552, 400552, 40057...   \n",
       "3  [399184, 400192, 400192, 400240, 400240, 40024...   \n",
       "4  [397672, 397984, 398008, 398536, 398656, 39865...   \n",
       "\n",
       "                                      time_last_list  \\\n",
       "0  [0, 0, 96, 0, 0, 0, 0, 864, 48, 0, 0, 0, 0, 0,...   \n",
       "1  [0, 0, 0, 0, 0, 0, 0, 0, 0, 0, 0, 0, 0, 0, 0, ...   \n",
       "2  [0, 0, 264, 72, 0, 24, 0, 0, 0, 24, 24, 288, 0...   \n",
       "3  [0, 1008, 0, 48, 0, 0, 0, 0, 0, 384, 0, 0, 72,...   \n",
       "4  [0, 312, 24, 528, 120, 0, 0, 0, 24, 312, 0, 0,...   \n",
       "\n",
       "                                       time_now_list  \\\n",
       "0  [1032, 1032, 936, 936, 936, 936, 936, 72, 24, ...   \n",
       "1  [48, 48, 48, 48, 48, 48, 48, 48, 48, 48, 48, 4...   \n",
       "2  [1008, 1008, 744, 672, 672, 648, 648, 648, 648...   \n",
       "3  [2520, 1512, 1512, 1464, 1464, 1464, 1464, 146...   \n",
       "4  [3864, 3552, 3528, 3000, 2880, 2880, 2880, 288...   \n",
       "\n",
       "                                       position_list                 target  \\\n",
       "0  [0, 1, 2, 3, 4, 5, 6, 7, 8, 9, 10, 11, 12, 13,...  [125165, 482, 399040]   \n",
       "1  [0, 1, 2, 3, 4, 5, 6, 7, 8, 9, 10, 11, 12, 13,...  [168523, 943, 401752]   \n",
       "2  [0, 1, 2, 3, 4, 5, 6, 7, 8, 9, 10, 11, 12, 13,...  [329307, 344, 401224]   \n",
       "3  [0, 1, 2, 3, 4, 5, 6, 7, 8, 9, 10, 11, 12, 13,...  [146956, 232, 401704]   \n",
       "4  [0, 1, 2, 3, 4, 5, 6, 7, 8, 9, 10, 11, 12, 13,...   [111155, 67, 401536]   \n",
       "\n",
       "   item_seq_len  \n",
       "0            26  \n",
       "1            23  \n",
       "2            17  \n",
       "3            19  \n",
       "4            18  "
      ]
     },
     "execution_count": 26,
     "metadata": {},
     "output_type": "execute_result"
    }
   ],
   "source": [
    "train_data.head()"
   ]
  },
  {
   "cell_type": "code",
   "execution_count": 27,
   "metadata": {},
   "outputs": [],
   "source": [
    "train_data['item_seq_len'] = train_data['item_seq_len']-1"
   ]
  },
  {
   "cell_type": "code",
   "execution_count": 28,
   "metadata": {},
   "outputs": [
    {
     "data": {
      "text/html": [
       "<div>\n",
       "<style scoped>\n",
       "    .dataframe tbody tr th:only-of-type {\n",
       "        vertical-align: middle;\n",
       "    }\n",
       "\n",
       "    .dataframe tbody tr th {\n",
       "        vertical-align: top;\n",
       "    }\n",
       "\n",
       "    .dataframe thead th {\n",
       "        text-align: right;\n",
       "    }\n",
       "</style>\n",
       "<table border=\"1\" class=\"dataframe\">\n",
       "  <thead>\n",
       "    <tr style=\"text-align: right;\">\n",
       "      <th></th>\n",
       "      <th>user_id</th>\n",
       "      <th>item_seq_temp</th>\n",
       "      <th>cat_list</th>\n",
       "      <th>time_list</th>\n",
       "      <th>time_last_list</th>\n",
       "      <th>time_now_list</th>\n",
       "      <th>position_list</th>\n",
       "      <th>target</th>\n",
       "      <th>item_seq_len</th>\n",
       "    </tr>\n",
       "  </thead>\n",
       "  <tbody>\n",
       "    <tr>\n",
       "      <th>0</th>\n",
       "      <td>3522</td>\n",
       "      <td>[118873, 190989, 73693, 354311, 73693, 354311,...</td>\n",
       "      <td>[571, 894, 482, 482, 482, 482, 482, 202, 330, ...</td>\n",
       "      <td>[398008, 398008, 398104, 398104, 398104, 39810...</td>\n",
       "      <td>[0, 0, 96, 0, 0, 0, 0, 864, 48, 0, 0, 0, 0, 0,...</td>\n",
       "      <td>[1032, 1032, 936, 936, 936, 936, 936, 72, 24, ...</td>\n",
       "      <td>[0, 1, 2, 3, 4, 5, 6, 7, 8, 9, 10, 11, 12, 13,...</td>\n",
       "      <td>[125165, 482, 399040]</td>\n",
       "      <td>25</td>\n",
       "    </tr>\n",
       "    <tr>\n",
       "      <th>1</th>\n",
       "      <td>3839</td>\n",
       "      <td>[298668, 297576, 305398, 107015, 32892, 76809,...</td>\n",
       "      <td>[636, 506, 339, 339, 636, 25, 339, 339, 25, 94...</td>\n",
       "      <td>[401704, 401704, 401704, 401704, 401704, 40170...</td>\n",
       "      <td>[0, 0, 0, 0, 0, 0, 0, 0, 0, 0, 0, 0, 0, 0, 0, ...</td>\n",
       "      <td>[48, 48, 48, 48, 48, 48, 48, 48, 48, 48, 48, 4...</td>\n",
       "      <td>[0, 1, 2, 3, 4, 5, 6, 7, 8, 9, 10, 11, 12, 13,...</td>\n",
       "      <td>[168523, 943, 401752]</td>\n",
       "      <td>22</td>\n",
       "    </tr>\n",
       "    <tr>\n",
       "      <th>2</th>\n",
       "      <td>3719</td>\n",
       "      <td>[211347, 153658, 7223, 81509, 19699, 81509, 10...</td>\n",
       "      <td>[719, 719, 613, 352, 1333, 352, 352, 1333, 120...</td>\n",
       "      <td>[400216, 400216, 400480, 400552, 400552, 40057...</td>\n",
       "      <td>[0, 0, 264, 72, 0, 24, 0, 0, 0, 24, 24, 288, 0...</td>\n",
       "      <td>[1008, 1008, 744, 672, 672, 648, 648, 648, 648...</td>\n",
       "      <td>[0, 1, 2, 3, 4, 5, 6, 7, 8, 9, 10, 11, 12, 13,...</td>\n",
       "      <td>[329307, 344, 401224]</td>\n",
       "      <td>16</td>\n",
       "    </tr>\n",
       "    <tr>\n",
       "      <th>3</th>\n",
       "      <td>4362</td>\n",
       "      <td>[95057, 68099, 161481, 366635, 150257, 303230,...</td>\n",
       "      <td>[1203, 704, 704, 704, 704, 704, 704, 704, 704,...</td>\n",
       "      <td>[399184, 400192, 400192, 400240, 400240, 40024...</td>\n",
       "      <td>[0, 1008, 0, 48, 0, 0, 0, 0, 0, 384, 0, 0, 72,...</td>\n",
       "      <td>[2520, 1512, 1512, 1464, 1464, 1464, 1464, 146...</td>\n",
       "      <td>[0, 1, 2, 3, 4, 5, 6, 7, 8, 9, 10, 11, 12, 13,...</td>\n",
       "      <td>[146956, 232, 401704]</td>\n",
       "      <td>18</td>\n",
       "    </tr>\n",
       "    <tr>\n",
       "      <th>4</th>\n",
       "      <td>1104</td>\n",
       "      <td>[228127, 202790, 37771, 210693, 316530, 186423...</td>\n",
       "      <td>[537, 381, 194, 962, 194, 301, 194, 194, 1098,...</td>\n",
       "      <td>[397672, 397984, 398008, 398536, 398656, 39865...</td>\n",
       "      <td>[0, 312, 24, 528, 120, 0, 0, 0, 24, 312, 0, 0,...</td>\n",
       "      <td>[3864, 3552, 3528, 3000, 2880, 2880, 2880, 288...</td>\n",
       "      <td>[0, 1, 2, 3, 4, 5, 6, 7, 8, 9, 10, 11, 12, 13,...</td>\n",
       "      <td>[111155, 67, 401536]</td>\n",
       "      <td>17</td>\n",
       "    </tr>\n",
       "  </tbody>\n",
       "</table>\n",
       "</div>"
      ],
      "text/plain": [
       "   user_id                                      item_seq_temp  \\\n",
       "0     3522  [118873, 190989, 73693, 354311, 73693, 354311,...   \n",
       "1     3839  [298668, 297576, 305398, 107015, 32892, 76809,...   \n",
       "2     3719  [211347, 153658, 7223, 81509, 19699, 81509, 10...   \n",
       "3     4362  [95057, 68099, 161481, 366635, 150257, 303230,...   \n",
       "4     1104  [228127, 202790, 37771, 210693, 316530, 186423...   \n",
       "\n",
       "                                            cat_list  \\\n",
       "0  [571, 894, 482, 482, 482, 482, 482, 202, 330, ...   \n",
       "1  [636, 506, 339, 339, 636, 25, 339, 339, 25, 94...   \n",
       "2  [719, 719, 613, 352, 1333, 352, 352, 1333, 120...   \n",
       "3  [1203, 704, 704, 704, 704, 704, 704, 704, 704,...   \n",
       "4  [537, 381, 194, 962, 194, 301, 194, 194, 1098,...   \n",
       "\n",
       "                                           time_list  \\\n",
       "0  [398008, 398008, 398104, 398104, 398104, 39810...   \n",
       "1  [401704, 401704, 401704, 401704, 401704, 40170...   \n",
       "2  [400216, 400216, 400480, 400552, 400552, 40057...   \n",
       "3  [399184, 400192, 400192, 400240, 400240, 40024...   \n",
       "4  [397672, 397984, 398008, 398536, 398656, 39865...   \n",
       "\n",
       "                                      time_last_list  \\\n",
       "0  [0, 0, 96, 0, 0, 0, 0, 864, 48, 0, 0, 0, 0, 0,...   \n",
       "1  [0, 0, 0, 0, 0, 0, 0, 0, 0, 0, 0, 0, 0, 0, 0, ...   \n",
       "2  [0, 0, 264, 72, 0, 24, 0, 0, 0, 24, 24, 288, 0...   \n",
       "3  [0, 1008, 0, 48, 0, 0, 0, 0, 0, 384, 0, 0, 72,...   \n",
       "4  [0, 312, 24, 528, 120, 0, 0, 0, 24, 312, 0, 0,...   \n",
       "\n",
       "                                       time_now_list  \\\n",
       "0  [1032, 1032, 936, 936, 936, 936, 936, 72, 24, ...   \n",
       "1  [48, 48, 48, 48, 48, 48, 48, 48, 48, 48, 48, 4...   \n",
       "2  [1008, 1008, 744, 672, 672, 648, 648, 648, 648...   \n",
       "3  [2520, 1512, 1512, 1464, 1464, 1464, 1464, 146...   \n",
       "4  [3864, 3552, 3528, 3000, 2880, 2880, 2880, 288...   \n",
       "\n",
       "                                       position_list                 target  \\\n",
       "0  [0, 1, 2, 3, 4, 5, 6, 7, 8, 9, 10, 11, 12, 13,...  [125165, 482, 399040]   \n",
       "1  [0, 1, 2, 3, 4, 5, 6, 7, 8, 9, 10, 11, 12, 13,...  [168523, 943, 401752]   \n",
       "2  [0, 1, 2, 3, 4, 5, 6, 7, 8, 9, 10, 11, 12, 13,...  [329307, 344, 401224]   \n",
       "3  [0, 1, 2, 3, 4, 5, 6, 7, 8, 9, 10, 11, 12, 13,...  [146956, 232, 401704]   \n",
       "4  [0, 1, 2, 3, 4, 5, 6, 7, 8, 9, 10, 11, 12, 13,...   [111155, 67, 401536]   \n",
       "\n",
       "   item_seq_len  \n",
       "0            25  \n",
       "1            22  \n",
       "2            16  \n",
       "3            18  \n",
       "4            17  "
      ]
     },
     "execution_count": 28,
     "metadata": {},
     "output_type": "execute_result"
    }
   ],
   "source": [
    "train_data.head()"
   ]
  },
  {
   "cell_type": "code",
   "execution_count": 29,
   "metadata": {},
   "outputs": [],
   "source": [
    "train_data['item_seq_temp'] = train_data.item_seq_temp.apply(lambda x:[i+1 for i in x])"
   ]
  },
  {
   "cell_type": "code",
   "execution_count": 30,
   "metadata": {},
   "outputs": [],
   "source": [
    "train_data = train_data[:1000]"
   ]
  },
  {
   "cell_type": "code",
   "execution_count": 31,
   "metadata": {},
   "outputs": [
    {
     "name": "stderr",
     "output_type": "stream",
     "text": [
      "100%|███████████████████████████████████| 1000/1000 [00:00<00:00, 40787.53it/s]\n"
     ]
    }
   ],
   "source": [
    "for i in tqdm(range(len(train_data))):\n",
    "    train_data['item_seq_temp'][i][train_data.item_seq_len[i]] = 0"
   ]
  },
  {
   "cell_type": "code",
   "execution_count": 32,
   "metadata": {},
   "outputs": [
    {
     "data": {
      "text/plain": [
       "(1000, 9)"
      ]
     },
     "execution_count": 32,
     "metadata": {},
     "output_type": "execute_result"
    }
   ],
   "source": [
    "train_data.shape"
   ]
  },
  {
   "cell_type": "code",
   "execution_count": 33,
   "metadata": {},
   "outputs": [],
   "source": [
    "input_length = 50\n",
    "train_data['item_seq_temp'] = train_data['item_seq_temp'].apply(lambda x:x+[0]*(input_length-len(x))if len(x)<input_length else x[:input_length])"
   ]
  },
  {
   "cell_type": "code",
   "execution_count": 34,
   "metadata": {},
   "outputs": [],
   "source": [
    "# 对train_data和test_data进行padding,即item_count+1作为padding_idx\n",
    "# item_id,user_id,cat_list_id进行了重新编码\n",
    "train_data['target_item'] = train_data['target'].apply(lambda x:x[0]) \n",
    "test_data['target_item'] = test_data['target'].apply(lambda x:x[0]) "
   ]
  },
  {
   "cell_type": "code",
   "execution_count": 35,
   "metadata": {},
   "outputs": [
    {
     "data": {
      "text/html": [
       "<div>\n",
       "<style scoped>\n",
       "    .dataframe tbody tr th:only-of-type {\n",
       "        vertical-align: middle;\n",
       "    }\n",
       "\n",
       "    .dataframe tbody tr th {\n",
       "        vertical-align: top;\n",
       "    }\n",
       "\n",
       "    .dataframe thead th {\n",
       "        text-align: right;\n",
       "    }\n",
       "</style>\n",
       "<table border=\"1\" class=\"dataframe\">\n",
       "  <thead>\n",
       "    <tr style=\"text-align: right;\">\n",
       "      <th></th>\n",
       "      <th>user_id</th>\n",
       "      <th>item_seq_temp</th>\n",
       "      <th>cat_list</th>\n",
       "      <th>time_list</th>\n",
       "      <th>time_last_list</th>\n",
       "      <th>time_now_list</th>\n",
       "      <th>position_list</th>\n",
       "      <th>target</th>\n",
       "      <th>item_seq_len</th>\n",
       "      <th>target_item</th>\n",
       "    </tr>\n",
       "  </thead>\n",
       "  <tbody>\n",
       "    <tr>\n",
       "      <th>0</th>\n",
       "      <td>3522</td>\n",
       "      <td>[118874, 190990, 73694, 354312, 73694, 354312,...</td>\n",
       "      <td>[571, 894, 482, 482, 482, 482, 482, 202, 330, ...</td>\n",
       "      <td>[398008, 398008, 398104, 398104, 398104, 39810...</td>\n",
       "      <td>[0, 0, 96, 0, 0, 0, 0, 864, 48, 0, 0, 0, 0, 0,...</td>\n",
       "      <td>[1032, 1032, 936, 936, 936, 936, 936, 72, 24, ...</td>\n",
       "      <td>[0, 1, 2, 3, 4, 5, 6, 7, 8, 9, 10, 11, 12, 13,...</td>\n",
       "      <td>[125165, 482, 399040]</td>\n",
       "      <td>25</td>\n",
       "      <td>125165</td>\n",
       "    </tr>\n",
       "    <tr>\n",
       "      <th>1</th>\n",
       "      <td>3839</td>\n",
       "      <td>[298669, 297577, 305399, 107016, 32893, 76810,...</td>\n",
       "      <td>[636, 506, 339, 339, 636, 25, 339, 339, 25, 94...</td>\n",
       "      <td>[401704, 401704, 401704, 401704, 401704, 40170...</td>\n",
       "      <td>[0, 0, 0, 0, 0, 0, 0, 0, 0, 0, 0, 0, 0, 0, 0, ...</td>\n",
       "      <td>[48, 48, 48, 48, 48, 48, 48, 48, 48, 48, 48, 4...</td>\n",
       "      <td>[0, 1, 2, 3, 4, 5, 6, 7, 8, 9, 10, 11, 12, 13,...</td>\n",
       "      <td>[168523, 943, 401752]</td>\n",
       "      <td>22</td>\n",
       "      <td>168523</td>\n",
       "    </tr>\n",
       "    <tr>\n",
       "      <th>2</th>\n",
       "      <td>3719</td>\n",
       "      <td>[211348, 153659, 7224, 81510, 19700, 81510, 10...</td>\n",
       "      <td>[719, 719, 613, 352, 1333, 352, 352, 1333, 120...</td>\n",
       "      <td>[400216, 400216, 400480, 400552, 400552, 40057...</td>\n",
       "      <td>[0, 0, 264, 72, 0, 24, 0, 0, 0, 24, 24, 288, 0...</td>\n",
       "      <td>[1008, 1008, 744, 672, 672, 648, 648, 648, 648...</td>\n",
       "      <td>[0, 1, 2, 3, 4, 5, 6, 7, 8, 9, 10, 11, 12, 13,...</td>\n",
       "      <td>[329307, 344, 401224]</td>\n",
       "      <td>16</td>\n",
       "      <td>329307</td>\n",
       "    </tr>\n",
       "    <tr>\n",
       "      <th>3</th>\n",
       "      <td>4362</td>\n",
       "      <td>[95058, 68100, 161482, 366636, 150258, 303231,...</td>\n",
       "      <td>[1203, 704, 704, 704, 704, 704, 704, 704, 704,...</td>\n",
       "      <td>[399184, 400192, 400192, 400240, 400240, 40024...</td>\n",
       "      <td>[0, 1008, 0, 48, 0, 0, 0, 0, 0, 384, 0, 0, 72,...</td>\n",
       "      <td>[2520, 1512, 1512, 1464, 1464, 1464, 1464, 146...</td>\n",
       "      <td>[0, 1, 2, 3, 4, 5, 6, 7, 8, 9, 10, 11, 12, 13,...</td>\n",
       "      <td>[146956, 232, 401704]</td>\n",
       "      <td>18</td>\n",
       "      <td>146956</td>\n",
       "    </tr>\n",
       "    <tr>\n",
       "      <th>4</th>\n",
       "      <td>1104</td>\n",
       "      <td>[228128, 202791, 37772, 210694, 316531, 186424...</td>\n",
       "      <td>[537, 381, 194, 962, 194, 301, 194, 194, 1098,...</td>\n",
       "      <td>[397672, 397984, 398008, 398536, 398656, 39865...</td>\n",
       "      <td>[0, 312, 24, 528, 120, 0, 0, 0, 24, 312, 0, 0,...</td>\n",
       "      <td>[3864, 3552, 3528, 3000, 2880, 2880, 2880, 288...</td>\n",
       "      <td>[0, 1, 2, 3, 4, 5, 6, 7, 8, 9, 10, 11, 12, 13,...</td>\n",
       "      <td>[111155, 67, 401536]</td>\n",
       "      <td>17</td>\n",
       "      <td>111155</td>\n",
       "    </tr>\n",
       "  </tbody>\n",
       "</table>\n",
       "</div>"
      ],
      "text/plain": [
       "   user_id                                      item_seq_temp  \\\n",
       "0     3522  [118874, 190990, 73694, 354312, 73694, 354312,...   \n",
       "1     3839  [298669, 297577, 305399, 107016, 32893, 76810,...   \n",
       "2     3719  [211348, 153659, 7224, 81510, 19700, 81510, 10...   \n",
       "3     4362  [95058, 68100, 161482, 366636, 150258, 303231,...   \n",
       "4     1104  [228128, 202791, 37772, 210694, 316531, 186424...   \n",
       "\n",
       "                                            cat_list  \\\n",
       "0  [571, 894, 482, 482, 482, 482, 482, 202, 330, ...   \n",
       "1  [636, 506, 339, 339, 636, 25, 339, 339, 25, 94...   \n",
       "2  [719, 719, 613, 352, 1333, 352, 352, 1333, 120...   \n",
       "3  [1203, 704, 704, 704, 704, 704, 704, 704, 704,...   \n",
       "4  [537, 381, 194, 962, 194, 301, 194, 194, 1098,...   \n",
       "\n",
       "                                           time_list  \\\n",
       "0  [398008, 398008, 398104, 398104, 398104, 39810...   \n",
       "1  [401704, 401704, 401704, 401704, 401704, 40170...   \n",
       "2  [400216, 400216, 400480, 400552, 400552, 40057...   \n",
       "3  [399184, 400192, 400192, 400240, 400240, 40024...   \n",
       "4  [397672, 397984, 398008, 398536, 398656, 39865...   \n",
       "\n",
       "                                      time_last_list  \\\n",
       "0  [0, 0, 96, 0, 0, 0, 0, 864, 48, 0, 0, 0, 0, 0,...   \n",
       "1  [0, 0, 0, 0, 0, 0, 0, 0, 0, 0, 0, 0, 0, 0, 0, ...   \n",
       "2  [0, 0, 264, 72, 0, 24, 0, 0, 0, 24, 24, 288, 0...   \n",
       "3  [0, 1008, 0, 48, 0, 0, 0, 0, 0, 384, 0, 0, 72,...   \n",
       "4  [0, 312, 24, 528, 120, 0, 0, 0, 24, 312, 0, 0,...   \n",
       "\n",
       "                                       time_now_list  \\\n",
       "0  [1032, 1032, 936, 936, 936, 936, 936, 72, 24, ...   \n",
       "1  [48, 48, 48, 48, 48, 48, 48, 48, 48, 48, 48, 4...   \n",
       "2  [1008, 1008, 744, 672, 672, 648, 648, 648, 648...   \n",
       "3  [2520, 1512, 1512, 1464, 1464, 1464, 1464, 146...   \n",
       "4  [3864, 3552, 3528, 3000, 2880, 2880, 2880, 288...   \n",
       "\n",
       "                                       position_list                 target  \\\n",
       "0  [0, 1, 2, 3, 4, 5, 6, 7, 8, 9, 10, 11, 12, 13,...  [125165, 482, 399040]   \n",
       "1  [0, 1, 2, 3, 4, 5, 6, 7, 8, 9, 10, 11, 12, 13,...  [168523, 943, 401752]   \n",
       "2  [0, 1, 2, 3, 4, 5, 6, 7, 8, 9, 10, 11, 12, 13,...  [329307, 344, 401224]   \n",
       "3  [0, 1, 2, 3, 4, 5, 6, 7, 8, 9, 10, 11, 12, 13,...  [146956, 232, 401704]   \n",
       "4  [0, 1, 2, 3, 4, 5, 6, 7, 8, 9, 10, 11, 12, 13,...   [111155, 67, 401536]   \n",
       "\n",
       "   item_seq_len  target_item  \n",
       "0            25       125165  \n",
       "1            22       168523  \n",
       "2            16       329307  \n",
       "3            18       146956  \n",
       "4            17       111155  "
      ]
     },
     "execution_count": 35,
     "metadata": {},
     "output_type": "execute_result"
    }
   ],
   "source": [
    "train_data.head()"
   ]
  },
  {
   "cell_type": "code",
   "execution_count": 36,
   "metadata": {},
   "outputs": [],
   "source": [
    "# 随便padding\n",
    "def pad(data):\n",
    "    for i in data.columns:\n",
    "        if i =='cat_list':\n",
    "            data[i] = data[i].apply(lambda x:x+[x[-1]-1]*(input_length-len(x))if len(x)<input_length else x[:input_length])\n",
    "        elif i=='position_list':\n",
    "            data[i] = data[i].apply(lambda x:[i for i in range(input_length)])"
   ]
  },
  {
   "cell_type": "code",
   "execution_count": 37,
   "metadata": {},
   "outputs": [],
   "source": [
    "# input_length = 50\n",
    "pad(train_data)"
   ]
  },
  {
   "cell_type": "code",
   "execution_count": 38,
   "metadata": {},
   "outputs": [],
   "source": [
    "# 获得train_data和test_data\n",
    "columns = ['user_id','item_seq_temp','cat_list','position_list','item_seq_len','target_item']\n",
    "train_data= train_data[columns]\n",
    "test_data = test_data[columns]"
   ]
  },
  {
   "cell_type": "code",
   "execution_count": 39,
   "metadata": {},
   "outputs": [],
   "source": [
    "# 方便处理数据，转换为numpy格式\n",
    "user_id = np.array(train_data['user_id'].tolist(),dtype = np.int32)\n",
    "item_seq_temp = np.array(train_data['item_seq_temp'].tolist(),dtype = np.int32)\n",
    "cat_list = np.array(train_data['cat_list'].tolist(),dtype = np.int32)\n",
    "position_list = np.array(train_data['position_list'].tolist(),dtype = np.int32)\n",
    "item_seq_len = np.array(train_data['item_seq_len'].tolist(),dtype = np.int64)\n",
    "target_item = np.array(train_data['target_item'].tolist(),dtype = np.int32)"
   ]
  },
  {
   "cell_type": "markdown",
   "metadata": {},
   "source": [
    "# 生成batch"
   ]
  },
  {
   "cell_type": "code",
   "execution_count": 40,
   "metadata": {},
   "outputs": [],
   "source": [
    "def get_batch(x_user_id,x_item_seq_temp,x_cat_list,x_position_list,x_item_seq_len,y,batch_size,shuffle = True):\n",
    "    assert x_user_id.shape[0] == y.shape[0]\n",
    "    if shuffle:\n",
    "        shuffled_index = np.random.permutation(y.shape[0])\n",
    "        x_user_id,x_item_seq_len,x_cat_list,x_position_list,x_item_seq_len = x_user_id[shuffled_index],x_item_seq_len[shuffled_index],x_cat_list[shuffled_index],x_position_list[shuffled_index],x_item_seq_len[shuffled_index]\n",
    "        y = y[shuffled_index]\n",
    "    \n",
    "    n_batches = int(x_user_id.shape[0]/batch_size)\n",
    "    for i in range(n_batches-1):\n",
    "        x_user_id_batch = x_user_id[i*batch_size:(i+1)*batch_size]\n",
    "        x_item_seq_temp_batch = x_item_seq_temp[i*batch_size:(i+1)*batch_size]\n",
    "        x_cat_list_batch = x_cat_list[i*batch_size:(i+1)*batch_size]\n",
    "        x_position_list_batch = x_position_list[i*batch_size:(i+1)*batch_size]\n",
    "        x_item_seq_len_batch = x_item_seq_len[i*batch_size:(i+1)*batch_size]\n",
    "        y_batch = y[i*batch_size:(i+1)*batch_size]\n",
    "        yield x_user_id_batch,x_item_seq_temp_batch,x_cat_list_batch,x_position_list_batch,x_item_seq_len_batch,y_batch"
   ]
  },
  {
   "cell_type": "markdown",
   "metadata": {},
   "source": [
    "# 构造模型"
   ]
  },
  {
   "cell_type": "code",
   "execution_count": 76,
   "metadata": {},
   "outputs": [],
   "source": [
    "class GetEmbedding(nn.Module):\n",
    "    def __init__(self,parameter_path,embedding_dim):\n",
    "        super(GetEmbedding,self).__init__()\n",
    "        self.parameter_path = parameter_path\n",
    "        self.parameters = self.get_parameter(self.parameter_path)\n",
    "        self.user_count = self.parameters['user_count']\n",
    "        self.item_count = self.parameters['item_count']\n",
    "        self.embedding_dim = embedding_dim\n",
    "        self.UI_emb = nn.Embedding(self.user_count+3,self.embedding_dim)\n",
    "        self.IU_emb = nn.Embedding(self.item_count+3,self.embedding_dim)\n",
    "        self.LI_emb = nn.Embedding(self.item_count+3,self.embedding_dim)\n",
    "        self.IL_emb = nn.Embedding(self.item_count+3,self.embedding_dim)\n",
    "        \n",
    "        self.apply(self.init_weights)\n",
    "    def init_weights(self, module):\n",
    "        if isinstance(module, nn.Embedding):\n",
    "            nn.init.xavier_normal_(module.weight.data)\n",
    "        \n",
    "    def get_parameter(self,file_path):\n",
    "        with open(file_path, 'rb') as f:  \n",
    "            parameters = pickle.loads(f.read())\n",
    "        return parameters"
   ]
  },
  {
   "cell_type": "code",
   "execution_count": 104,
   "metadata": {},
   "outputs": [],
   "source": [
    "class FPMC(nn.Module):\n",
    "    def __init__(self,parameter_path,embedding_dim,neg_count,batch_size):\n",
    "        super(FPMC,self).__init__()\n",
    "        self.parameter_path = parameter_path\n",
    "        self.batch_size = batch_size\n",
    "        self.embedding_dim = embedding_dim\n",
    "        self.emb = GetEmbedding(self.parameter_path,self.embedding_dim)\n",
    "        self.neg_count = neg_count\n",
    "    \n",
    "    def forward(self,x_user_id_batch,x_item_seq_temp_batch,y_batch):\n",
    "        user_emb = self.emb.UI_emb(x_user_id_batch)\n",
    "        user_emb = torch.unsqueeze(user_emb,1)#[batch_size,1,embedding_dim]\n",
    "        \n",
    "        seq = self.emb.LI_emb(x_item_seq_temp_batch)#[batch_size,S,embedding_dim]\n",
    "        pos_iu = self.emb.IU_emb(y_batch)#[batch_size,1,embedding_dim]\n",
    "        pos_iu = torch.unsqueeze(pos_iu,1)\n",
    "        pos_il = self.emb.IL_emb(y_batch)\n",
    "        pos_il = torch.unsqueeze(pos_il,1)#[batch_size,1,embedding_dim]\n",
    "        \n",
    "        pos_score = self.PMFC(user_emb,pos_iu,pos_il,seq)\n",
    "        \n",
    "        x_neg_batch = random.sample(range(0,self.emb.item_count),self.neg_count*self.batch_size)\n",
    "        x_neg_batch = torch.LongTensor(x_neg_batch).view(self.batch_size,self.neg_count)\n",
    "        neg_iu = self.emb.IU_emb(x_neg_batch)\n",
    "        neg_il = self.emb.IL_emb(x_neg_batch)\n",
    "        \n",
    "        neg_score = self.PMFC(user_emb,neg_iu,neg_il,seq)\n",
    "#         print(pos_score,neg_score)\n",
    "        return pos_score,neg_score\n",
    "        \n",
    "    def PMFC(self,Vui,Viu,Vil,Vli):\n",
    "        \"\"\"\n",
    "        Vui:user embedding：[batch_size,embeding_size]\n",
    "        Viu:pos_pred:[batch_size,embedding_size]\n",
    "        Vil:pred:[batch_size,embedding]\n",
    "        Vli:seq:[batch_size,seq_len,embedding_size]\n",
    "        \"\"\"\n",
    "        #MF\n",
    "        mf = torch.matmul(Vui,Viu.permute(0,2,1))\n",
    "        mf = torch.squeeze(mf,1)#[batch_size,1]\n",
    "        \n",
    "#         PMF\n",
    "        pmf = torch.matmul(Vil,Vli.permute(0,2,1))\n",
    "        pmf = torch.mean(pmf,dim=-1)#[batch_size,Seq_len]\n",
    "        x = mf + pmf\n",
    "        return x\n",
    "        \n",
    "        \n",
    "        \n",
    "\n",
    "        \n",
    "       \n",
    "        \n",
    "    \n",
    "    \n",
    "        \n",
    "      "
   ]
  },
  {
   "cell_type": "code",
   "execution_count": 105,
   "metadata": {},
   "outputs": [],
   "source": [
    "class Myloss(nn.Module):\n",
    "    def __init__(self):\n",
    "        super(Myloss,self).__init__()\n",
    "        self.sigmoid = nn.Sigmoid()\n",
    "    def forward(self,X_uti,X_utj):\n",
    "        loss = -1*torch.mean(torch.log(self.sigmoid(X_uti - X_utj)),dim = -1) \n",
    "        loss = torch.mean(loss)\n",
    "#         print(loss)\n",
    "        return loss"
   ]
  },
  {
   "cell_type": "code",
   "execution_count": null,
   "metadata": {},
   "outputs": [
    {
     "name": "stdout",
     "output_type": "stream",
     "text": [
      "0 0 0.693133533000946\n",
      "1 0 0.6915633082389832\n",
      "2 0 0.6639586687088013\n",
      "3 0 0.5956408977508545\n",
      "4 0 0.49946051836013794\n",
      "5 0 0.3787462115287781\n",
      "6 0 0.29395002126693726\n",
      "7 0 0.23759444057941437\n",
      "8 0 0.16475528478622437\n",
      "9 0 0.1350255310535431\n"
     ]
    }
   ],
   "source": [
    "# train\n",
    "batch_size = 10\n",
    "neg_count = 5\n",
    "parameter_path = 'data_example/parameters.pkl'\n",
    "embedding_dim = 32\n",
    "fpmc = FPMC(parameter_path,embedding_dim,neg_count,batch_size)\n",
    "fpmc = fpmc.to(device)\n",
    "fpmc.train()\n",
    "criterion = Myloss()\n",
    "train_loss = []\n",
    "optimizer = optim.Adam(fpmc.parameters(),lr=0.001)\n",
    "for epoch in range(10):\n",
    "    for batch_idx,data in enumerate(get_batch(user_id,item_seq_temp,cat_list,position_list,item_seq_len,target_item,batch_size)):\n",
    "        x_user_id_batch = torch.LongTensor(data[0])\n",
    "        x_item_seq_temp_batch = torch.LongTensor(data[1])\n",
    "        x_cat_list_batch = torch.LongTensor(data[2])\n",
    "        x_position_list_batch = torch.LongTensor(data[3])\n",
    "        x_item_seq_len_batch = torch.LongTensor(data[4])\n",
    "        y_batch = torch.LongTensor(data[5])\n",
    "        pos_score,neg_score = fpmc(x_user_id_batch,x_item_seq_temp_batch,y_batch)\n",
    "#         print('item_list_emb.shape',item_list_emb_weight.shape)\n",
    "        loss = criterion(pos_score,neg_score)\n",
    "        train_loss.append(loss.item())\n",
    "        # Backward and optimizer\n",
    "        # 1.优化器保存先前的梯度信息\n",
    "        optimizer.zero_grad()\n",
    "        # 2.计算梯度\n",
    "        loss.backward()\n",
    "#         3.梯度更新 w' = w - lr*grads\n",
    "        optimizer.step()\n",
    "        if batch_idx%200 == 0:\n",
    "            print(epoch,batch_idx,loss.item())"
   ]
  },
  {
   "cell_type": "code",
   "execution_count": null,
   "metadata": {},
   "outputs": [],
   "source": [
    "input = torch.LongTensor([1,2,3])"
   ]
  },
  {
   "cell_type": "code",
   "execution_count": 46,
   "metadata": {},
   "outputs": [],
   "source": [
    "seq_len = torch.LongTensor([3,1])"
   ]
  },
  {
   "cell_type": "code",
   "execution_count": 67,
   "metadata": {},
   "outputs": [],
   "source": [
    "input_emb = nn.Embedding(10,5)(input)"
   ]
  },
  {
   "cell_type": "code",
   "execution_count": 68,
   "metadata": {},
   "outputs": [
    {
     "data": {
      "text/plain": [
       "tensor([[ 0.9872, -0.8550,  1.2665, -1.8929,  0.3049],\n",
       "        [ 0.1844, -0.7909, -0.6077,  0.1878,  1.1186],\n",
       "        [ 0.9530, -0.2532, -0.2734,  0.1165, -1.0736]],\n",
       "       grad_fn=<EmbeddingBackward>)"
      ]
     },
     "execution_count": 68,
     "metadata": {},
     "output_type": "execute_result"
    }
   ],
   "source": [
    "input_emb"
   ]
  },
  {
   "cell_type": "code",
   "execution_count": null,
   "metadata": {},
   "outputs": [],
   "source": []
  },
  {
   "cell_type": "code",
   "execution_count": 100,
   "metadata": {},
   "outputs": [
    {
     "data": {
      "text/plain": [
       "PackedSequence(data=tensor([[-2.7515, -1.4493,  0.4747, -0.9737,  0.4582],\n",
       "        [-2.7515, -1.4493,  0.4747, -0.9737,  0.4582],\n",
       "        [-0.8478,  0.0812,  1.1355, -1.6338,  1.3905],\n",
       "        [-2.7515, -1.4493,  0.4747, -0.9737,  0.4582]],\n",
       "       grad_fn=<PackPaddedSequenceBackward>), batch_sizes=tensor([2, 1, 1]), sorted_indices=None, unsorted_indices=None)"
      ]
     },
     "execution_count": 100,
     "metadata": {},
     "output_type": "execute_result"
    }
   ],
   "source": [
    "input_emb_nopad = pack_padded_sequence(input_emb,seq_len,batch_first=True)\n",
    "input_emb_nopad"
   ]
  },
  {
   "cell_type": "code",
   "execution_count": 101,
   "metadata": {},
   "outputs": [],
   "source": [
    "embedding_size,hidden_size = 5,3\n",
    "gru_output,hidden = nn.GRU(embedding_size,hidden_size,batch_first=True)(input_emb_nopad)"
   ]
  },
  {
   "cell_type": "code",
   "execution_count": 102,
   "metadata": {},
   "outputs": [
    {
     "data": {
      "text/plain": [
       "PackedSequence(data=tensor([[-0.4256,  0.7522,  0.0735],\n",
       "        [-0.4256,  0.7522,  0.0735],\n",
       "        [-0.6064,  0.0024,  0.0175],\n",
       "        [-0.7467,  0.7776,  0.0862]], grad_fn=<CatBackward>), batch_sizes=tensor([2, 1, 1]), sorted_indices=None, unsorted_indices=None)"
      ]
     },
     "execution_count": 102,
     "metadata": {},
     "output_type": "execute_result"
    }
   ],
   "source": [
    "gru_output"
   ]
  },
  {
   "cell_type": "code",
   "execution_count": 103,
   "metadata": {},
   "outputs": [
    {
     "data": {
      "text/plain": [
       "tensor([[[-0.7467,  0.7776,  0.0862],\n",
       "         [-0.4256,  0.7522,  0.0735]]], grad_fn=<StackBackward>)"
      ]
     },
     "execution_count": 103,
     "metadata": {},
     "output_type": "execute_result"
    }
   ],
   "source": [
    "hidden"
   ]
  },
  {
   "cell_type": "code",
   "execution_count": 104,
   "metadata": {},
   "outputs": [],
   "source": [
    "hidden = hidden[-1]"
   ]
  },
  {
   "cell_type": "code",
   "execution_count": 105,
   "metadata": {},
   "outputs": [
    {
     "data": {
      "text/plain": [
       "tensor([[-0.7467,  0.7776,  0.0862],\n",
       "        [-0.4256,  0.7522,  0.0735]], grad_fn=<SelectBackward>)"
      ]
     },
     "execution_count": 105,
     "metadata": {},
     "output_type": "execute_result"
    }
   ],
   "source": [
    "hidden"
   ]
  },
  {
   "cell_type": "code",
   "execution_count": 106,
   "metadata": {},
   "outputs": [],
   "source": [
    "gru_output,lengths = pad_packed_sequence(gru_output,batch_first=True)"
   ]
  },
  {
   "cell_type": "code",
   "execution_count": 107,
   "metadata": {},
   "outputs": [
    {
     "data": {
      "text/plain": [
       "tensor([[[-0.4256,  0.7522,  0.0735],\n",
       "         [-0.6064,  0.0024,  0.0175],\n",
       "         [-0.7467,  0.7776,  0.0862]],\n",
       "\n",
       "        [[-0.4256,  0.7522,  0.0735],\n",
       "         [ 0.0000,  0.0000,  0.0000],\n",
       "         [ 0.0000,  0.0000,  0.0000]]], grad_fn=<TransposeBackward0>)"
      ]
     },
     "execution_count": 107,
     "metadata": {},
     "output_type": "execute_result"
    }
   ],
   "source": [
    "gru_output"
   ]
  },
  {
   "cell_type": "code",
   "execution_count": 95,
   "metadata": {},
   "outputs": [
    {
     "data": {
      "text/plain": [
       "tensor([2, 1])"
      ]
     },
     "execution_count": 95,
     "metadata": {},
     "output_type": "execute_result"
    }
   ],
   "source": [
    "lengths"
   ]
  },
  {
   "cell_type": "code",
   "execution_count": 108,
   "metadata": {},
   "outputs": [
    {
     "data": {
      "text/plain": [
       "tensor([[1., 1., 1.],\n",
       "        [1., 0., 0.]])"
      ]
     },
     "execution_count": 108,
     "metadata": {},
     "output_type": "execute_result"
    }
   ],
   "source": [
    "mask = torch.where(input>0,torch.tensor([1.]),torch.tensor([0.]))\n",
    "mask"
   ]
  },
  {
   "cell_type": "code",
   "execution_count": 116,
   "metadata": {},
   "outputs": [
    {
     "data": {
      "text/plain": [
       "tensor([[1., 1., 1.],\n",
       "        [1., 0., 0.]])"
      ]
     },
     "execution_count": 116,
     "metadata": {},
     "output_type": "execute_result"
    }
   ],
   "source": [
    "mask"
   ]
  },
  {
   "cell_type": "code",
   "execution_count": 109,
   "metadata": {},
   "outputs": [
    {
     "data": {
      "text/plain": [
       "tensor([[[-0.7467,  0.7776,  0.0862],\n",
       "         [-0.7467,  0.7776,  0.0862],\n",
       "         [-0.7467,  0.7776,  0.0862]],\n",
       "\n",
       "        [[-0.4256,  0.7522,  0.0735],\n",
       "         [-0.4256,  0.7522,  0.0735],\n",
       "         [-0.4256,  0.7522,  0.0735]]], grad_fn=<ExpandBackward>)"
      ]
     },
     "execution_count": 109,
     "metadata": {},
     "output_type": "execute_result"
    }
   ],
   "source": [
    "# hidden:[batch_size,embedding_size]\n",
    "#gru_output:[batch_size,seq_len.embedding_size]\n",
    "\n",
    "hidden_expand = hidden.unsqueeze(1).expand_as(gru_output)\n",
    "hidden_expand"
   ]
  },
  {
   "cell_type": "code",
   "execution_count": 110,
   "metadata": {},
   "outputs": [
    {
     "data": {
      "text/plain": [
       "tensor([[[1., 1., 1.],\n",
       "         [1., 1., 1.],\n",
       "         [1., 1., 1.]],\n",
       "\n",
       "        [[1., 1., 1.],\n",
       "         [0., 0., 0.],\n",
       "         [0., 0., 0.]]])"
      ]
     },
     "execution_count": 110,
     "metadata": {},
     "output_type": "execute_result"
    }
   ],
   "source": [
    "hidden_masked = mask.unsqueeze(2).expand_as(gru_output)\n",
    "hidden_masked"
   ]
  },
  {
   "cell_type": "code",
   "execution_count": 111,
   "metadata": {},
   "outputs": [
    {
     "data": {
      "text/plain": [
       "tensor([[[-0.7467,  0.7776,  0.0862],\n",
       "         [-0.7467,  0.7776,  0.0862],\n",
       "         [-0.7467,  0.7776,  0.0862]],\n",
       "\n",
       "        [[-0.4256,  0.7522,  0.0735],\n",
       "         [-0.0000,  0.0000,  0.0000],\n",
       "         [-0.0000,  0.0000,  0.0000]]], grad_fn=<MulBackward0>)"
      ]
     },
     "execution_count": 111,
     "metadata": {},
     "output_type": "execute_result"
    }
   ],
   "source": [
    "hidden_masked = hidden_masked*hidden_expand\n",
    "hidden_masked"
   ]
  },
  {
   "cell_type": "code",
   "execution_count": 113,
   "metadata": {},
   "outputs": [
    {
     "data": {
      "text/plain": [
       "tensor([[-0.3909],\n",
       "        [-0.3208],\n",
       "        [-0.4048],\n",
       "        [-0.3747],\n",
       "        [-0.1497],\n",
       "        [-0.1497]], grad_fn=<MmBackward>)"
      ]
     },
     "execution_count": 113,
     "metadata": {},
     "output_type": "execute_result"
    }
   ],
   "source": [
    "vt = nn.Linear(hidden_size,1,bias = False)\n",
    "alpha = vt(torch.sigmoid(gru_output+hidden_masked).view(-1,hidden_size))\n",
    "alpha"
   ]
  },
  {
   "cell_type": "code",
   "execution_count": 117,
   "metadata": {},
   "outputs": [
    {
     "data": {
      "text/plain": [
       "tensor([[-0.3909, -0.3208, -0.4048],\n",
       "        [-0.3747, -0.1497, -0.1497]], grad_fn=<ViewBackward>)"
      ]
     },
     "execution_count": 117,
     "metadata": {},
     "output_type": "execute_result"
    }
   ],
   "source": [
    "alpha = alpha.view(mask.size())\n",
    "alpha"
   ]
  },
  {
   "cell_type": "code",
   "execution_count": 120,
   "metadata": {},
   "outputs": [
    {
     "data": {
      "text/plain": [
       "tensor([[[-0.3909, -0.3909, -0.3909],\n",
       "         [-0.3208, -0.3208, -0.3208],\n",
       "         [-0.4048, -0.4048, -0.4048]],\n",
       "\n",
       "        [[-0.3747, -0.3747, -0.3747],\n",
       "         [-0.1497, -0.1497, -0.1497],\n",
       "         [-0.1497, -0.1497, -0.1497]]], grad_fn=<ExpandBackward>)"
      ]
     },
     "execution_count": 120,
     "metadata": {},
     "output_type": "execute_result"
    }
   ],
   "source": [
    "alpha = alpha.unsqueeze(2).expand_as(gru_output)\n",
    "alpha"
   ]
  },
  {
   "cell_type": "code",
   "execution_count": 119,
   "metadata": {},
   "outputs": [
    {
     "data": {
      "text/plain": [
       "tensor([[[-0.4256,  0.7522,  0.0735],\n",
       "         [-0.6064,  0.0024,  0.0175],\n",
       "         [-0.7467,  0.7776,  0.0862]],\n",
       "\n",
       "        [[-0.4256,  0.7522,  0.0735],\n",
       "         [ 0.0000,  0.0000,  0.0000],\n",
       "         [ 0.0000,  0.0000,  0.0000]]], grad_fn=<TransposeBackward0>)"
      ]
     },
     "execution_count": 119,
     "metadata": {},
     "output_type": "execute_result"
    }
   ],
   "source": [
    "gru_output"
   ]
  },
  {
   "cell_type": "code",
   "execution_count": 122,
   "metadata": {},
   "outputs": [
    {
     "data": {
      "text/plain": [
       "tensor([[ 0.6631, -0.6095, -0.0692],\n",
       "        [ 0.1595, -0.2819, -0.0275]], grad_fn=<SumBackward2>)"
      ]
     },
     "execution_count": 122,
     "metadata": {},
     "output_type": "execute_result"
    }
   ],
   "source": [
    "c_local = torch.sum(alpha*gru_output,1)\n",
    "c_local"
   ]
  },
  {
   "cell_type": "code",
   "execution_count": null,
   "metadata": {},
   "outputs": [],
   "source": []
  }
 ],
 "metadata": {
  "kernelspec": {
   "display_name": "Python 3",
   "language": "python",
   "name": "python3"
  },
  "language_info": {
   "codemirror_mode": {
    "name": "ipython",
    "version": 3
   },
   "file_extension": ".py",
   "mimetype": "text/x-python",
   "name": "python",
   "nbconvert_exporter": "python",
   "pygments_lexer": "ipython3",
   "version": "3.6.10"
  }
 },
 "nbformat": 4,
 "nbformat_minor": 4
}
